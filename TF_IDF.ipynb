{
 "cells": [
  {
   "cell_type": "code",
   "execution_count": 1,
   "id": "05a83556",
   "metadata": {},
   "outputs": [],
   "source": [
    "paragraph = 'Thank you all so very much. Thank you to the Academy. Thank you to all of you in this room. I have to congratulate the other incredible nominees this year. The Revenant was the product of the tireless efforts of an unbelievable cast and crew. First off, to my brother in this endeavor, Mr. Tom Hardy. Tom, your talent on screen can only be surpassed by your friendship off screen … thank you for creating a transcendent cinematic experience. Thank you to everybody at Fox and New Regency … my entire team. I have to thank everyone from the very onset of my career … To my parents; none of this would be possible without you. And to my friends, I love you dearly; you know who you are.'"
   ]
  },
  {
   "cell_type": "code",
   "execution_count": 2,
   "id": "eb475325",
   "metadata": {},
   "outputs": [
    {
     "data": {
      "text/plain": [
       "'Thank you all so very much. Thank you to the Academy. Thank you to all of you in this room. I have to congratulate the other incredible nominees this year. The Revenant was the product of the tireless efforts of an unbelievable cast and crew. First off, to my brother in this endeavor, Mr. Tom Hardy. Tom, your talent on screen can only be surpassed by your friendship off screen … thank you for creating a transcendent cinematic experience. Thank you to everybody at Fox and New Regency … my entire team. I have to thank everyone from the very onset of my career … To my parents; none of this would be possible without you. And to my friends, I love you dearly; you know who you are.'"
      ]
     },
     "execution_count": 2,
     "metadata": {},
     "output_type": "execute_result"
    }
   ],
   "source": [
    "paragraph"
   ]
  },
  {
   "cell_type": "code",
   "execution_count": 3,
   "id": "ceb25969",
   "metadata": {},
   "outputs": [
    {
     "name": "stderr",
     "output_type": "stream",
     "text": [
      "[nltk_data] Error loading punkt: <urlopen error [Errno 11001]\n",
      "[nltk_data]     getaddrinfo failed>\n"
     ]
    },
    {
     "data": {
      "text/plain": [
       "False"
      ]
     },
     "execution_count": 3,
     "metadata": {},
     "output_type": "execute_result"
    }
   ],
   "source": [
    "import nltk\n",
    "nltk.download('punkt')"
   ]
  },
  {
   "cell_type": "code",
   "execution_count": 4,
   "id": "f7cd26a8",
   "metadata": {},
   "outputs": [],
   "source": [
    "import numpy as np\n",
    "import re"
   ]
  },
  {
   "cell_type": "code",
   "execution_count": 5,
   "id": "aa1bedf2",
   "metadata": {},
   "outputs": [],
   "source": [
    "dataset = nltk.sent_tokenize(paragraph)"
   ]
  },
  {
   "cell_type": "code",
   "execution_count": 6,
   "id": "6bbde732",
   "metadata": {},
   "outputs": [
    {
     "data": {
      "text/plain": [
       "['Thank you all so very much.',\n",
       " 'Thank you to the Academy.',\n",
       " 'Thank you to all of you in this room.',\n",
       " 'I have to congratulate the other incredible nominees this year.',\n",
       " 'The Revenant was the product of the tireless efforts of an unbelievable cast and crew.',\n",
       " 'First off, to my brother in this endeavor, Mr. Tom Hardy.',\n",
       " 'Tom, your talent on screen can only be surpassed by your friendship off screen … thank you for creating a transcendent cinematic experience.',\n",
       " 'Thank you to everybody at Fox and New Regency … my entire team.',\n",
       " 'I have to thank everyone from the very onset of my career … To my parents; none of this would be possible without you.',\n",
       " 'And to my friends, I love you dearly; you know who you are.']"
      ]
     },
     "execution_count": 6,
     "metadata": {},
     "output_type": "execute_result"
    }
   ],
   "source": [
    "dataset"
   ]
  },
  {
   "cell_type": "code",
   "execution_count": 7,
   "id": "f64e497b",
   "metadata": {},
   "outputs": [
    {
     "data": {
      "text/plain": [
       "10"
      ]
     },
     "execution_count": 7,
     "metadata": {},
     "output_type": "execute_result"
    }
   ],
   "source": [
    "len(dataset)"
   ]
  },
  {
   "cell_type": "code",
   "execution_count": 9,
   "id": "971e9906",
   "metadata": {},
   "outputs": [],
   "source": [
    "for i in range(len(dataset)):\n",
    "    dataset[i] = dataset[i].lower()\n",
    "    dataset[i] = re.sub(r'\\W',' ',dataset[i])\n",
    "    dataset[i] = re.sub(r'\\s+$','',dataset[i])\n",
    "    dataset[i] = re.sub(r'\\s+',' ',dataset[i])"
   ]
  },
  {
   "cell_type": "code",
   "execution_count": 10,
   "id": "b70cb2fe",
   "metadata": {},
   "outputs": [
    {
     "data": {
      "text/plain": [
       "['thank you all so very much',\n",
       " 'thank you to the academy',\n",
       " 'thank you to all of you in this room',\n",
       " 'i have to congratulate the other incredible nominees this year',\n",
       " 'the revenant was the product of the tireless efforts of an unbelievable cast and crew',\n",
       " 'first off to my brother in this endeavor mr tom hardy',\n",
       " 'tom your talent on screen can only be surpassed by your friendship off screen thank you for creating a transcendent cinematic experience',\n",
       " 'thank you to everybody at fox and new regency my entire team',\n",
       " 'i have to thank everyone from the very onset of my career to my parents none of this would be possible without you',\n",
       " 'and to my friends i love you dearly you know who you are']"
      ]
     },
     "execution_count": 10,
     "metadata": {},
     "output_type": "execute_result"
    }
   ],
   "source": [
    "dataset"
   ]
  },
  {
   "cell_type": "code",
   "execution_count": null,
   "id": "32372942",
   "metadata": {},
   "outputs": [],
   "source": [
    "word2count = {}\n",
    "for data in dataset: #first iter --- thank you all so very much\n",
    "    words = nltk.word_tokenize(data) #--- [thank,you ,all,....]\n",
    "    for word in words:# first iter -------> thank\n",
    "        if word not in word2count.keys():\n",
    "            word2count[word] = 1\n",
    "        else:\n",
    "            word2count[word] += 1"
   ]
  },
  {
   "cell_type": "code",
   "execution_count": 11,
   "id": "d9c895bc",
   "metadata": {},
   "outputs": [],
   "source": [
    "word2count = {}\n",
    "for data in dataset: #first iter --- thank you all so very much\n",
    "    words = nltk.word_tokenize(data)  #--- [thank,you ,all,....]\n",
    "    for word in words:# first iter -------> thank\n",
    "        if word not in word2count.keys():\n",
    "            word2count[word] = 1\n",
    "        else:\n",
    "            word2count[word] += 1"
   ]
  },
  {
   "cell_type": "code",
   "execution_count": 12,
   "id": "d1c34c92",
   "metadata": {},
   "outputs": [
    {
     "data": {
      "text/plain": [
       "{'thank': 6,\n",
       " 'you': 10,\n",
       " 'all': 2,\n",
       " 'so': 1,\n",
       " 'very': 2,\n",
       " 'much': 1,\n",
       " 'to': 8,\n",
       " 'the': 6,\n",
       " 'academy': 1,\n",
       " 'of': 5,\n",
       " 'in': 2,\n",
       " 'this': 4,\n",
       " 'room': 1,\n",
       " 'i': 3,\n",
       " 'have': 2,\n",
       " 'congratulate': 1,\n",
       " 'other': 1,\n",
       " 'incredible': 1,\n",
       " 'nominees': 1,\n",
       " 'year': 1,\n",
       " 'revenant': 1,\n",
       " 'was': 1,\n",
       " 'product': 1,\n",
       " 'tireless': 1,\n",
       " 'efforts': 1,\n",
       " 'an': 1,\n",
       " 'unbelievable': 1,\n",
       " 'cast': 1,\n",
       " 'and': 3,\n",
       " 'crew': 1,\n",
       " 'first': 1,\n",
       " 'off': 2,\n",
       " 'my': 5,\n",
       " 'brother': 1,\n",
       " 'endeavor': 1,\n",
       " 'mr': 1,\n",
       " 'tom': 2,\n",
       " 'hardy': 1,\n",
       " 'your': 2,\n",
       " 'talent': 1,\n",
       " 'on': 1,\n",
       " 'screen': 2,\n",
       " 'can': 1,\n",
       " 'only': 1,\n",
       " 'be': 2,\n",
       " 'surpassed': 1,\n",
       " 'by': 1,\n",
       " 'friendship': 1,\n",
       " 'for': 1,\n",
       " 'creating': 1,\n",
       " 'a': 1,\n",
       " 'transcendent': 1,\n",
       " 'cinematic': 1,\n",
       " 'experience': 1,\n",
       " 'everybody': 1,\n",
       " 'at': 1,\n",
       " 'fox': 1,\n",
       " 'new': 1,\n",
       " 'regency': 1,\n",
       " 'entire': 1,\n",
       " 'team': 1,\n",
       " 'everyone': 1,\n",
       " 'from': 1,\n",
       " 'onset': 1,\n",
       " 'career': 1,\n",
       " 'parents': 1,\n",
       " 'none': 1,\n",
       " 'would': 1,\n",
       " 'possible': 1,\n",
       " 'without': 1,\n",
       " 'friends': 1,\n",
       " 'love': 1,\n",
       " 'dearly': 1,\n",
       " 'know': 1,\n",
       " 'who': 1,\n",
       " 'are': 1}"
      ]
     },
     "execution_count": 12,
     "metadata": {},
     "output_type": "execute_result"
    }
   ],
   "source": [
    "word2count"
   ]
  },
  {
   "cell_type": "code",
   "execution_count": 13,
   "id": "b489b8c0",
   "metadata": {},
   "outputs": [],
   "source": [
    "import heapq\n",
    "freq_words = heapq.nlargest(20,word2count,key=word2count.get)"
   ]
  },
  {
   "cell_type": "code",
   "execution_count": 14,
   "id": "459b7462",
   "metadata": {},
   "outputs": [
    {
     "data": {
      "text/plain": [
       "['you',\n",
       " 'to',\n",
       " 'thank',\n",
       " 'the',\n",
       " 'of',\n",
       " 'my',\n",
       " 'this',\n",
       " 'i',\n",
       " 'and',\n",
       " 'all',\n",
       " 'very',\n",
       " 'in',\n",
       " 'have',\n",
       " 'off',\n",
       " 'tom',\n",
       " 'your',\n",
       " 'screen',\n",
       " 'be',\n",
       " 'so',\n",
       " 'much']"
      ]
     },
     "execution_count": 14,
     "metadata": {},
     "output_type": "execute_result"
    }
   ],
   "source": [
    "freq_words"
   ]
  },
  {
   "cell_type": "markdown",
   "id": "2716af07",
   "metadata": {},
   "source": [
    "# IDF"
   ]
  },
  {
   "cell_type": "code",
   "execution_count": 15,
   "id": "5b0109ce",
   "metadata": {},
   "outputs": [],
   "source": [
    "word_idfs = {}\n",
    "for word in freq_words:\n",
    "    doc_count = 0\n",
    "    for data in dataset:\n",
    "        if word in nltk.word_tokenize(data):\n",
    "            doc_count += 1\n",
    "    word_idfs[word] = np.log((len(dataset)/doc_count)+1)\n",
    "            "
   ]
  },
  {
   "cell_type": "code",
   "execution_count": 16,
   "id": "e80bd865",
   "metadata": {},
   "outputs": [
    {
     "data": {
      "text/plain": [
       "{'you': 0.8873031950009029,\n",
       " 'to': 0.8873031950009029,\n",
       " 'thank': 0.9808292530117263,\n",
       " 'the': 1.252762968495368,\n",
       " 'of': 1.4663370687934272,\n",
       " 'my': 1.252762968495368,\n",
       " 'this': 1.252762968495368,\n",
       " 'i': 1.4663370687934272,\n",
       " 'and': 1.4663370687934272,\n",
       " 'all': 1.791759469228055,\n",
       " 'very': 1.791759469228055,\n",
       " 'in': 1.791759469228055,\n",
       " 'have': 1.791759469228055,\n",
       " 'off': 1.791759469228055,\n",
       " 'tom': 1.791759469228055,\n",
       " 'your': 2.3978952727983707,\n",
       " 'screen': 2.3978952727983707,\n",
       " 'be': 1.791759469228055,\n",
       " 'so': 2.3978952727983707,\n",
       " 'much': 2.3978952727983707}"
      ]
     },
     "execution_count": 16,
     "metadata": {},
     "output_type": "execute_result"
    }
   ],
   "source": [
    "word_idfs"
   ]
  },
  {
   "cell_type": "markdown",
   "id": "92e4f606",
   "metadata": {},
   "source": [
    "# TF"
   ]
  },
  {
   "cell_type": "code",
   "execution_count": 18,
   "id": "d832c213",
   "metadata": {},
   "outputs": [],
   "source": [
    "tf_matrix = {}\n",
    "for word in freq_words: # you\n",
    "    doc_tf = []\n",
    "    for data in dataset: # thak yo all very so much\n",
    "        freqency = 0\n",
    "        for w in nltk.word_tokenize(data): #[thank,you,all,very,so,much]\n",
    "            if w == word:\n",
    "                freqency =+ 1\n",
    "        tf_word = freqency/len(nltk.word_tokenize(data))\n",
    "        doc_tf.append(tf_word)\n",
    "    tf_matrix[word] = doc_tf\n",
    "                "
   ]
  },
  {
   "cell_type": "code",
   "execution_count": 19,
   "id": "9f82cfc3",
   "metadata": {},
   "outputs": [
    {
     "data": {
      "text/plain": [
       "{'you': [0.16666666666666666,\n",
       "  0.2,\n",
       "  0.1111111111111111,\n",
       "  0.0,\n",
       "  0.0,\n",
       "  0.0,\n",
       "  0.045454545454545456,\n",
       "  0.08333333333333333,\n",
       "  0.043478260869565216,\n",
       "  0.07692307692307693],\n",
       " 'to': [0.0,\n",
       "  0.2,\n",
       "  0.1111111111111111,\n",
       "  0.1,\n",
       "  0.0,\n",
       "  0.09090909090909091,\n",
       "  0.0,\n",
       "  0.08333333333333333,\n",
       "  0.043478260869565216,\n",
       "  0.07692307692307693],\n",
       " 'thank': [0.16666666666666666,\n",
       "  0.2,\n",
       "  0.1111111111111111,\n",
       "  0.0,\n",
       "  0.0,\n",
       "  0.0,\n",
       "  0.045454545454545456,\n",
       "  0.08333333333333333,\n",
       "  0.043478260869565216,\n",
       "  0.0],\n",
       " 'the': [0.0,\n",
       "  0.2,\n",
       "  0.0,\n",
       "  0.1,\n",
       "  0.06666666666666667,\n",
       "  0.0,\n",
       "  0.0,\n",
       "  0.0,\n",
       "  0.043478260869565216,\n",
       "  0.0],\n",
       " 'of': [0.0,\n",
       "  0.0,\n",
       "  0.1111111111111111,\n",
       "  0.0,\n",
       "  0.06666666666666667,\n",
       "  0.0,\n",
       "  0.0,\n",
       "  0.0,\n",
       "  0.043478260869565216,\n",
       "  0.0],\n",
       " 'my': [0.0,\n",
       "  0.0,\n",
       "  0.0,\n",
       "  0.0,\n",
       "  0.0,\n",
       "  0.09090909090909091,\n",
       "  0.0,\n",
       "  0.08333333333333333,\n",
       "  0.043478260869565216,\n",
       "  0.07692307692307693],\n",
       " 'this': [0.0,\n",
       "  0.0,\n",
       "  0.1111111111111111,\n",
       "  0.1,\n",
       "  0.0,\n",
       "  0.09090909090909091,\n",
       "  0.0,\n",
       "  0.0,\n",
       "  0.043478260869565216,\n",
       "  0.0],\n",
       " 'i': [0.0,\n",
       "  0.0,\n",
       "  0.0,\n",
       "  0.1,\n",
       "  0.0,\n",
       "  0.0,\n",
       "  0.0,\n",
       "  0.0,\n",
       "  0.043478260869565216,\n",
       "  0.07692307692307693],\n",
       " 'and': [0.0,\n",
       "  0.0,\n",
       "  0.0,\n",
       "  0.0,\n",
       "  0.06666666666666667,\n",
       "  0.0,\n",
       "  0.0,\n",
       "  0.08333333333333333,\n",
       "  0.0,\n",
       "  0.07692307692307693],\n",
       " 'all': [0.16666666666666666,\n",
       "  0.0,\n",
       "  0.1111111111111111,\n",
       "  0.0,\n",
       "  0.0,\n",
       "  0.0,\n",
       "  0.0,\n",
       "  0.0,\n",
       "  0.0,\n",
       "  0.0],\n",
       " 'very': [0.16666666666666666,\n",
       "  0.0,\n",
       "  0.0,\n",
       "  0.0,\n",
       "  0.0,\n",
       "  0.0,\n",
       "  0.0,\n",
       "  0.0,\n",
       "  0.043478260869565216,\n",
       "  0.0],\n",
       " 'in': [0.0,\n",
       "  0.0,\n",
       "  0.1111111111111111,\n",
       "  0.0,\n",
       "  0.0,\n",
       "  0.09090909090909091,\n",
       "  0.0,\n",
       "  0.0,\n",
       "  0.0,\n",
       "  0.0],\n",
       " 'have': [0.0, 0.0, 0.0, 0.1, 0.0, 0.0, 0.0, 0.0, 0.043478260869565216, 0.0],\n",
       " 'off': [0.0,\n",
       "  0.0,\n",
       "  0.0,\n",
       "  0.0,\n",
       "  0.0,\n",
       "  0.09090909090909091,\n",
       "  0.045454545454545456,\n",
       "  0.0,\n",
       "  0.0,\n",
       "  0.0],\n",
       " 'tom': [0.0,\n",
       "  0.0,\n",
       "  0.0,\n",
       "  0.0,\n",
       "  0.0,\n",
       "  0.09090909090909091,\n",
       "  0.045454545454545456,\n",
       "  0.0,\n",
       "  0.0,\n",
       "  0.0],\n",
       " 'your': [0.0, 0.0, 0.0, 0.0, 0.0, 0.0, 0.045454545454545456, 0.0, 0.0, 0.0],\n",
       " 'screen': [0.0, 0.0, 0.0, 0.0, 0.0, 0.0, 0.045454545454545456, 0.0, 0.0, 0.0],\n",
       " 'be': [0.0,\n",
       "  0.0,\n",
       "  0.0,\n",
       "  0.0,\n",
       "  0.0,\n",
       "  0.0,\n",
       "  0.045454545454545456,\n",
       "  0.0,\n",
       "  0.043478260869565216,\n",
       "  0.0],\n",
       " 'so': [0.16666666666666666, 0.0, 0.0, 0.0, 0.0, 0.0, 0.0, 0.0, 0.0, 0.0],\n",
       " 'much': [0.16666666666666666, 0.0, 0.0, 0.0, 0.0, 0.0, 0.0, 0.0, 0.0, 0.0]}"
      ]
     },
     "execution_count": 19,
     "metadata": {},
     "output_type": "execute_result"
    }
   ],
   "source": [
    "tf_matrix"
   ]
  },
  {
   "cell_type": "markdown",
   "id": "6a74fe93",
   "metadata": {},
   "source": [
    "# TF-IDF"
   ]
  },
  {
   "cell_type": "code",
   "execution_count": 21,
   "id": "4f4eb966",
   "metadata": {},
   "outputs": [],
   "source": [
    "tfidf_matrix = []\n",
    "for word in tf_matrix.keys():\n",
    "    tfidf = []\n",
    "    for value in tf_matrix[word]:\n",
    "        score = value*word_idfs[word]\n",
    "        tfidf.append(score)\n",
    "    tfidf_matrix.append(tfidf)"
   ]
  },
  {
   "cell_type": "code",
   "execution_count": 22,
   "id": "c9a01912",
   "metadata": {},
   "outputs": [
    {
     "data": {
      "text/plain": [
       "[[0.1478838658334838,\n",
       "  0.1774606390001806,\n",
       "  0.09858924388898921,\n",
       "  0.0,\n",
       "  0.0,\n",
       "  0.0,\n",
       "  0.040331963409131956,\n",
       "  0.0739419329167419,\n",
       "  0.03857839978264795,\n",
       "  0.06825409192314638],\n",
       " [0.0,\n",
       "  0.1774606390001806,\n",
       "  0.09858924388898921,\n",
       "  0.0887303195000903,\n",
       "  0.0,\n",
       "  0.08066392681826391,\n",
       "  0.0,\n",
       "  0.0739419329167419,\n",
       "  0.03857839978264795,\n",
       "  0.06825409192314638],\n",
       " [0.16347154216862103,\n",
       "  0.19616585060234526,\n",
       "  0.10898102811241403,\n",
       "  0.0,\n",
       "  0.0,\n",
       "  0.0,\n",
       "  0.04458314786416938,\n",
       "  0.08173577108431052,\n",
       "  0.04264475013094462,\n",
       "  0.0],\n",
       " [0.0,\n",
       "  0.2505525936990736,\n",
       "  0.0,\n",
       "  0.1252762968495368,\n",
       "  0.08351753123302454,\n",
       "  0.0,\n",
       "  0.0,\n",
       "  0.0,\n",
       "  0.05446795515197252,\n",
       "  0.0],\n",
       " [0.0,\n",
       "  0.0,\n",
       "  0.16292634097704745,\n",
       "  0.0,\n",
       "  0.09775580458622848,\n",
       "  0.0,\n",
       "  0.0,\n",
       "  0.0,\n",
       "  0.06375378559971423,\n",
       "  0.0],\n",
       " [0.0,\n",
       "  0.0,\n",
       "  0.0,\n",
       "  0.0,\n",
       "  0.0,\n",
       "  0.11388754259048801,\n",
       "  0.0,\n",
       "  0.10439691404128067,\n",
       "  0.05446795515197252,\n",
       "  0.0963663821919514],\n",
       " [0.0,\n",
       "  0.0,\n",
       "  0.1391958853883742,\n",
       "  0.1252762968495368,\n",
       "  0.0,\n",
       "  0.11388754259048801,\n",
       "  0.0,\n",
       "  0.0,\n",
       "  0.05446795515197252,\n",
       "  0.0],\n",
       " [0.0,\n",
       "  0.0,\n",
       "  0.0,\n",
       "  0.1466337068793427,\n",
       "  0.0,\n",
       "  0.0,\n",
       "  0.0,\n",
       "  0.0,\n",
       "  0.06375378559971423,\n",
       "  0.11279515913795594],\n",
       " [0.0,\n",
       "  0.0,\n",
       "  0.0,\n",
       "  0.0,\n",
       "  0.09775580458622848,\n",
       "  0.0,\n",
       "  0.0,\n",
       "  0.1221947557327856,\n",
       "  0.0,\n",
       "  0.11279515913795594],\n",
       " [0.2986265782046758,\n",
       "  0.0,\n",
       "  0.19908438546978388,\n",
       "  0.0,\n",
       "  0.0,\n",
       "  0.0,\n",
       "  0.0,\n",
       "  0.0,\n",
       "  0.0,\n",
       "  0.0],\n",
       " [0.2986265782046758,\n",
       "  0.0,\n",
       "  0.0,\n",
       "  0.0,\n",
       "  0.0,\n",
       "  0.0,\n",
       "  0.0,\n",
       "  0.0,\n",
       "  0.07790258561861109,\n",
       "  0.0],\n",
       " [0.0,\n",
       "  0.0,\n",
       "  0.19908438546978388,\n",
       "  0.0,\n",
       "  0.0,\n",
       "  0.16288722447527773,\n",
       "  0.0,\n",
       "  0.0,\n",
       "  0.0,\n",
       "  0.0],\n",
       " [0.0,\n",
       "  0.0,\n",
       "  0.0,\n",
       "  0.1791759469228055,\n",
       "  0.0,\n",
       "  0.0,\n",
       "  0.0,\n",
       "  0.0,\n",
       "  0.07790258561861109,\n",
       "  0.0],\n",
       " [0.0,\n",
       "  0.0,\n",
       "  0.0,\n",
       "  0.0,\n",
       "  0.0,\n",
       "  0.16288722447527773,\n",
       "  0.08144361223763887,\n",
       "  0.0,\n",
       "  0.0,\n",
       "  0.0],\n",
       " [0.0,\n",
       "  0.0,\n",
       "  0.0,\n",
       "  0.0,\n",
       "  0.0,\n",
       "  0.16288722447527773,\n",
       "  0.08144361223763887,\n",
       "  0.0,\n",
       "  0.0,\n",
       "  0.0],\n",
       " [0.0, 0.0, 0.0, 0.0, 0.0, 0.0, 0.10899523967265322, 0.0, 0.0, 0.0],\n",
       " [0.0, 0.0, 0.0, 0.0, 0.0, 0.0, 0.10899523967265322, 0.0, 0.0, 0.0],\n",
       " [0.0,\n",
       "  0.0,\n",
       "  0.0,\n",
       "  0.0,\n",
       "  0.0,\n",
       "  0.0,\n",
       "  0.08144361223763887,\n",
       "  0.0,\n",
       "  0.07790258561861109,\n",
       "  0.0],\n",
       " [0.39964921213306176, 0.0, 0.0, 0.0, 0.0, 0.0, 0.0, 0.0, 0.0, 0.0],\n",
       " [0.39964921213306176, 0.0, 0.0, 0.0, 0.0, 0.0, 0.0, 0.0, 0.0, 0.0]]"
      ]
     },
     "execution_count": 22,
     "metadata": {},
     "output_type": "execute_result"
    }
   ],
   "source": [
    "tfidf_matrix"
   ]
  },
  {
   "cell_type": "code",
   "execution_count": 23,
   "id": "d0286154",
   "metadata": {},
   "outputs": [],
   "source": [
    "X = np.asarray(tfidf_matrix)"
   ]
  },
  {
   "cell_type": "code",
   "execution_count": 24,
   "id": "c563887b",
   "metadata": {},
   "outputs": [
    {
     "data": {
      "text/plain": [
       "array([[0.14788387, 0.17746064, 0.09858924, 0.        , 0.        ,\n",
       "        0.        , 0.04033196, 0.07394193, 0.0385784 , 0.06825409],\n",
       "       [0.        , 0.17746064, 0.09858924, 0.08873032, 0.        ,\n",
       "        0.08066393, 0.        , 0.07394193, 0.0385784 , 0.06825409],\n",
       "       [0.16347154, 0.19616585, 0.10898103, 0.        , 0.        ,\n",
       "        0.        , 0.04458315, 0.08173577, 0.04264475, 0.        ],\n",
       "       [0.        , 0.25055259, 0.        , 0.1252763 , 0.08351753,\n",
       "        0.        , 0.        , 0.        , 0.05446796, 0.        ],\n",
       "       [0.        , 0.        , 0.16292634, 0.        , 0.0977558 ,\n",
       "        0.        , 0.        , 0.        , 0.06375379, 0.        ],\n",
       "       [0.        , 0.        , 0.        , 0.        , 0.        ,\n",
       "        0.11388754, 0.        , 0.10439691, 0.05446796, 0.09636638],\n",
       "       [0.        , 0.        , 0.13919589, 0.1252763 , 0.        ,\n",
       "        0.11388754, 0.        , 0.        , 0.05446796, 0.        ],\n",
       "       [0.        , 0.        , 0.        , 0.14663371, 0.        ,\n",
       "        0.        , 0.        , 0.        , 0.06375379, 0.11279516],\n",
       "       [0.        , 0.        , 0.        , 0.        , 0.0977558 ,\n",
       "        0.        , 0.        , 0.12219476, 0.        , 0.11279516],\n",
       "       [0.29862658, 0.        , 0.19908439, 0.        , 0.        ,\n",
       "        0.        , 0.        , 0.        , 0.        , 0.        ],\n",
       "       [0.29862658, 0.        , 0.        , 0.        , 0.        ,\n",
       "        0.        , 0.        , 0.        , 0.07790259, 0.        ],\n",
       "       [0.        , 0.        , 0.19908439, 0.        , 0.        ,\n",
       "        0.16288722, 0.        , 0.        , 0.        , 0.        ],\n",
       "       [0.        , 0.        , 0.        , 0.17917595, 0.        ,\n",
       "        0.        , 0.        , 0.        , 0.07790259, 0.        ],\n",
       "       [0.        , 0.        , 0.        , 0.        , 0.        ,\n",
       "        0.16288722, 0.08144361, 0.        , 0.        , 0.        ],\n",
       "       [0.        , 0.        , 0.        , 0.        , 0.        ,\n",
       "        0.16288722, 0.08144361, 0.        , 0.        , 0.        ],\n",
       "       [0.        , 0.        , 0.        , 0.        , 0.        ,\n",
       "        0.        , 0.10899524, 0.        , 0.        , 0.        ],\n",
       "       [0.        , 0.        , 0.        , 0.        , 0.        ,\n",
       "        0.        , 0.10899524, 0.        , 0.        , 0.        ],\n",
       "       [0.        , 0.        , 0.        , 0.        , 0.        ,\n",
       "        0.        , 0.08144361, 0.        , 0.07790259, 0.        ],\n",
       "       [0.39964921, 0.        , 0.        , 0.        , 0.        ,\n",
       "        0.        , 0.        , 0.        , 0.        , 0.        ],\n",
       "       [0.39964921, 0.        , 0.        , 0.        , 0.        ,\n",
       "        0.        , 0.        , 0.        , 0.        , 0.        ]])"
      ]
     },
     "execution_count": 24,
     "metadata": {},
     "output_type": "execute_result"
    }
   ],
   "source": [
    "X"
   ]
  },
  {
   "cell_type": "code",
   "execution_count": 26,
   "id": "0666c0a1",
   "metadata": {},
   "outputs": [
    {
     "data": {
      "text/plain": [
       "(20, 10)"
      ]
     },
     "execution_count": 26,
     "metadata": {},
     "output_type": "execute_result"
    }
   ],
   "source": [
    "X.shape"
   ]
  },
  {
   "cell_type": "code",
   "execution_count": 27,
   "id": "7baa7944",
   "metadata": {},
   "outputs": [],
   "source": [
    "X = np.transpose(X)"
   ]
  },
  {
   "cell_type": "code",
   "execution_count": 28,
   "id": "53cd8e38",
   "metadata": {},
   "outputs": [
    {
     "data": {
      "text/plain": [
       "(10, 20)"
      ]
     },
     "execution_count": 28,
     "metadata": {},
     "output_type": "execute_result"
    }
   ],
   "source": [
    "X.shape"
   ]
  },
  {
   "cell_type": "code",
   "execution_count": 29,
   "id": "a2654b09",
   "metadata": {},
   "outputs": [
    {
     "data": {
      "text/plain": [
       "array([[0.14788387, 0.        , 0.16347154, 0.        , 0.        ,\n",
       "        0.        , 0.        , 0.        , 0.        , 0.29862658,\n",
       "        0.29862658, 0.        , 0.        , 0.        , 0.        ,\n",
       "        0.        , 0.        , 0.        , 0.39964921, 0.39964921],\n",
       "       [0.17746064, 0.17746064, 0.19616585, 0.25055259, 0.        ,\n",
       "        0.        , 0.        , 0.        , 0.        , 0.        ,\n",
       "        0.        , 0.        , 0.        , 0.        , 0.        ,\n",
       "        0.        , 0.        , 0.        , 0.        , 0.        ],\n",
       "       [0.09858924, 0.09858924, 0.10898103, 0.        , 0.16292634,\n",
       "        0.        , 0.13919589, 0.        , 0.        , 0.19908439,\n",
       "        0.        , 0.19908439, 0.        , 0.        , 0.        ,\n",
       "        0.        , 0.        , 0.        , 0.        , 0.        ],\n",
       "       [0.        , 0.08873032, 0.        , 0.1252763 , 0.        ,\n",
       "        0.        , 0.1252763 , 0.14663371, 0.        , 0.        ,\n",
       "        0.        , 0.        , 0.17917595, 0.        , 0.        ,\n",
       "        0.        , 0.        , 0.        , 0.        , 0.        ],\n",
       "       [0.        , 0.        , 0.        , 0.08351753, 0.0977558 ,\n",
       "        0.        , 0.        , 0.        , 0.0977558 , 0.        ,\n",
       "        0.        , 0.        , 0.        , 0.        , 0.        ,\n",
       "        0.        , 0.        , 0.        , 0.        , 0.        ],\n",
       "       [0.        , 0.08066393, 0.        , 0.        , 0.        ,\n",
       "        0.11388754, 0.11388754, 0.        , 0.        , 0.        ,\n",
       "        0.        , 0.16288722, 0.        , 0.16288722, 0.16288722,\n",
       "        0.        , 0.        , 0.        , 0.        , 0.        ],\n",
       "       [0.04033196, 0.        , 0.04458315, 0.        , 0.        ,\n",
       "        0.        , 0.        , 0.        , 0.        , 0.        ,\n",
       "        0.        , 0.        , 0.        , 0.08144361, 0.08144361,\n",
       "        0.10899524, 0.10899524, 0.08144361, 0.        , 0.        ],\n",
       "       [0.07394193, 0.07394193, 0.08173577, 0.        , 0.        ,\n",
       "        0.10439691, 0.        , 0.        , 0.12219476, 0.        ,\n",
       "        0.        , 0.        , 0.        , 0.        , 0.        ,\n",
       "        0.        , 0.        , 0.        , 0.        , 0.        ],\n",
       "       [0.0385784 , 0.0385784 , 0.04264475, 0.05446796, 0.06375379,\n",
       "        0.05446796, 0.05446796, 0.06375379, 0.        , 0.        ,\n",
       "        0.07790259, 0.        , 0.07790259, 0.        , 0.        ,\n",
       "        0.        , 0.        , 0.07790259, 0.        , 0.        ],\n",
       "       [0.06825409, 0.06825409, 0.        , 0.        , 0.        ,\n",
       "        0.09636638, 0.        , 0.11279516, 0.11279516, 0.        ,\n",
       "        0.        , 0.        , 0.        , 0.        , 0.        ,\n",
       "        0.        , 0.        , 0.        , 0.        , 0.        ]])"
      ]
     },
     "execution_count": 29,
     "metadata": {},
     "output_type": "execute_result"
    }
   ],
   "source": [
    "X"
   ]
  },
  {
   "cell_type": "code",
   "execution_count": null,
   "id": "2f72bf47",
   "metadata": {},
   "outputs": [],
   "source": []
  }
 ],
 "metadata": {
  "kernelspec": {
   "display_name": "Python 3",
   "language": "python",
   "name": "python3"
  },
  "language_info": {
   "codemirror_mode": {
    "name": "ipython",
    "version": 3
   },
   "file_extension": ".py",
   "mimetype": "text/x-python",
   "name": "python",
   "nbconvert_exporter": "python",
   "pygments_lexer": "ipython3",
   "version": "3.6.13"
  }
 },
 "nbformat": 4,
 "nbformat_minor": 5
}
