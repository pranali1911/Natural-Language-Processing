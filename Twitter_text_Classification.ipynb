{
 "cells": [
  {
   "cell_type": "code",
   "execution_count": 1,
   "id": "23ed7fc9",
   "metadata": {},
   "outputs": [],
   "source": [
    "import tweepy\n",
    "import re\n",
    "import pickle"
   ]
  },
  {
   "cell_type": "code",
   "execution_count": 2,
   "id": "30508894",
   "metadata": {},
   "outputs": [],
   "source": [
    "from tweepy import OAuthHandler"
   ]
  },
  {
   "cell_type": "code",
   "execution_count": 3,
   "id": "9ffb7826",
   "metadata": {},
   "outputs": [],
   "source": [
    "consumer_key = 'YwsGdWDbAV5zkipKYqiCL5rBj'\n",
    "consumer_secret = '64copzBPY63dCiHhTvLU6bGWlyul1aDPent4Rlw97ZkKwEc88B'\n",
    "access_token = '37164817-e4ZcHcrpwKilOl2q0sEQaGJ5hEs48B0vDuFjiXrye'\n",
    "access_secret = '7ms4aved9fcXOJyGgXhzI7BaEyGbdlB4vdcEj0ndDpolz'"
   ]
  },
  {
   "cell_type": "code",
   "execution_count": 4,
   "id": "95b1b225",
   "metadata": {},
   "outputs": [],
   "source": [
    "auth = OAuthHandler(consumer_key,consumer_secret)\n",
    "auth.set_access_token(access_token,access_secret)"
   ]
  },
  {
   "cell_type": "code",
   "execution_count": 5,
   "id": "2c408ae4",
   "metadata": {},
   "outputs": [],
   "source": [
    "args = ['Modi']"
   ]
  },
  {
   "cell_type": "code",
   "execution_count": 6,
   "id": "ff82639f",
   "metadata": {},
   "outputs": [],
   "source": [
    "api = tweepy.API(auth,timeout = 10)"
   ]
  },
  {
   "cell_type": "code",
   "execution_count": 7,
   "id": "894294d7",
   "metadata": {},
   "outputs": [],
   "source": [
    "list_tweets = []\n",
    "query = args[0]"
   ]
  },
  {
   "cell_type": "code",
   "execution_count": 8,
   "id": "45b4642d",
   "metadata": {},
   "outputs": [
    {
     "data": {
      "text/plain": [
       "'Modi'"
      ]
     },
     "execution_count": 8,
     "metadata": {},
     "output_type": "execute_result"
    }
   ],
   "source": [
    "query"
   ]
  },
  {
   "cell_type": "code",
   "execution_count": 9,
   "id": "787f031a",
   "metadata": {},
   "outputs": [],
   "source": [
    "if len(args) == 1:\n",
    "    for status in tweepy.Cursor(api.search_tweets,q=query+\" -filter:retweets\",lang='en',result_type='recent').items(100):\n",
    "        list_tweets.append(status.text)"
   ]
  },
  {
   "cell_type": "code",
   "execution_count": 10,
   "id": "074db965",
   "metadata": {},
   "outputs": [
    {
     "data": {
      "text/plain": [
       "Status(_api=<tweepy.api.API object at 0x0000010C5D73DFD0>, _json={'created_at': 'Mon Jul 11 09:53:01 +0000 2022', 'id': 1546432364124942338, 'id_str': '1546432364124942338', 'text': '@krishanKTRS @KTRTRS Many questions by CM kcr to Modi regarding development of India, but there’s no answer from mo… https://t.co/owtSgHDzGI', 'truncated': True, 'entities': {'hashtags': [], 'symbols': [], 'user_mentions': [{'screen_name': 'krishanKTRS', 'name': 'krishanKTRS', 'id': 83384000, 'id_str': '83384000', 'indices': [0, 12]}, {'screen_name': 'KTRTRS', 'name': 'KTR', 'id': 118787224, 'id_str': '118787224', 'indices': [13, 20]}], 'urls': [{'url': 'https://t.co/owtSgHDzGI', 'expanded_url': 'https://twitter.com/i/web/status/1546432364124942338', 'display_url': 'twitter.com/i/web/status/1…', 'indices': [117, 140]}]}, 'metadata': {'iso_language_code': 'en', 'result_type': 'recent'}, 'source': '<a href=\"http://twitter.com/download/android\" rel=\"nofollow\">Twitter for Android</a>', 'in_reply_to_status_id': 1546384446613438464, 'in_reply_to_status_id_str': '1546384446613438464', 'in_reply_to_user_id': 83384000, 'in_reply_to_user_id_str': '83384000', 'in_reply_to_screen_name': 'krishanKTRS', 'user': {'id': 1437297976389476354, 'id_str': '1437297976389476354', 'name': 'Vikram Kumar', 'screen_name': 'vikram_231', 'location': '', 'description': 'Always make sure you have love in your life❤️\\u200d🔥', 'url': None, 'entities': {'description': {'urls': []}}, 'protected': False, 'followers_count': 128, 'friends_count': 141, 'listed_count': 0, 'created_at': 'Mon Sep 13 06:12:16 +0000 2021', 'favourites_count': 70421, 'utc_offset': None, 'time_zone': None, 'geo_enabled': False, 'verified': False, 'statuses_count': 9126, 'lang': None, 'contributors_enabled': False, 'is_translator': False, 'is_translation_enabled': False, 'profile_background_color': 'F5F8FA', 'profile_background_image_url': None, 'profile_background_image_url_https': None, 'profile_background_tile': False, 'profile_image_url': 'http://pbs.twimg.com/profile_images/1540630567825199104/52vepTBu_normal.jpg', 'profile_image_url_https': 'https://pbs.twimg.com/profile_images/1540630567825199104/52vepTBu_normal.jpg', 'profile_banner_url': 'https://pbs.twimg.com/profile_banners/1437297976389476354/1656149952', 'profile_link_color': '1DA1F2', 'profile_sidebar_border_color': 'C0DEED', 'profile_sidebar_fill_color': 'DDEEF6', 'profile_text_color': '333333', 'profile_use_background_image': True, 'has_extended_profile': True, 'default_profile': True, 'default_profile_image': False, 'following': False, 'follow_request_sent': False, 'notifications': False, 'translator_type': 'none', 'withheld_in_countries': []}, 'geo': None, 'coordinates': None, 'place': None, 'contributors': None, 'is_quote_status': False, 'retweet_count': 0, 'favorite_count': 2, 'favorited': False, 'retweeted': False, 'lang': 'en'}, created_at=datetime.datetime(2022, 7, 11, 9, 53, 1, tzinfo=datetime.timezone.utc), id=1546432364124942338, id_str='1546432364124942338', text='@krishanKTRS @KTRTRS Many questions by CM kcr to Modi regarding development of India, but there’s no answer from mo… https://t.co/owtSgHDzGI', truncated=True, entities={'hashtags': [], 'symbols': [], 'user_mentions': [{'screen_name': 'krishanKTRS', 'name': 'krishanKTRS', 'id': 83384000, 'id_str': '83384000', 'indices': [0, 12]}, {'screen_name': 'KTRTRS', 'name': 'KTR', 'id': 118787224, 'id_str': '118787224', 'indices': [13, 20]}], 'urls': [{'url': 'https://t.co/owtSgHDzGI', 'expanded_url': 'https://twitter.com/i/web/status/1546432364124942338', 'display_url': 'twitter.com/i/web/status/1…', 'indices': [117, 140]}]}, metadata={'iso_language_code': 'en', 'result_type': 'recent'}, source='Twitter for Android', source_url='http://twitter.com/download/android', in_reply_to_status_id=1546384446613438464, in_reply_to_status_id_str='1546384446613438464', in_reply_to_user_id=83384000, in_reply_to_user_id_str='83384000', in_reply_to_screen_name='krishanKTRS', author=User(_api=<tweepy.api.API object at 0x0000010C5D73DFD0>, _json={'id': 1437297976389476354, 'id_str': '1437297976389476354', 'name': 'Vikram Kumar', 'screen_name': 'vikram_231', 'location': '', 'description': 'Always make sure you have love in your life❤️\\u200d🔥', 'url': None, 'entities': {'description': {'urls': []}}, 'protected': False, 'followers_count': 128, 'friends_count': 141, 'listed_count': 0, 'created_at': 'Mon Sep 13 06:12:16 +0000 2021', 'favourites_count': 70421, 'utc_offset': None, 'time_zone': None, 'geo_enabled': False, 'verified': False, 'statuses_count': 9126, 'lang': None, 'contributors_enabled': False, 'is_translator': False, 'is_translation_enabled': False, 'profile_background_color': 'F5F8FA', 'profile_background_image_url': None, 'profile_background_image_url_https': None, 'profile_background_tile': False, 'profile_image_url': 'http://pbs.twimg.com/profile_images/1540630567825199104/52vepTBu_normal.jpg', 'profile_image_url_https': 'https://pbs.twimg.com/profile_images/1540630567825199104/52vepTBu_normal.jpg', 'profile_banner_url': 'https://pbs.twimg.com/profile_banners/1437297976389476354/1656149952', 'profile_link_color': '1DA1F2', 'profile_sidebar_border_color': 'C0DEED', 'profile_sidebar_fill_color': 'DDEEF6', 'profile_text_color': '333333', 'profile_use_background_image': True, 'has_extended_profile': True, 'default_profile': True, 'default_profile_image': False, 'following': False, 'follow_request_sent': False, 'notifications': False, 'translator_type': 'none', 'withheld_in_countries': []}, id=1437297976389476354, id_str='1437297976389476354', name='Vikram Kumar', screen_name='vikram_231', location='', description='Always make sure you have love in your life❤️\\u200d🔥', url=None, entities={'description': {'urls': []}}, protected=False, followers_count=128, friends_count=141, listed_count=0, created_at=datetime.datetime(2021, 9, 13, 6, 12, 16, tzinfo=datetime.timezone.utc), favourites_count=70421, utc_offset=None, time_zone=None, geo_enabled=False, verified=False, statuses_count=9126, lang=None, contributors_enabled=False, is_translator=False, is_translation_enabled=False, profile_background_color='F5F8FA', profile_background_image_url=None, profile_background_image_url_https=None, profile_background_tile=False, profile_image_url='http://pbs.twimg.com/profile_images/1540630567825199104/52vepTBu_normal.jpg', profile_image_url_https='https://pbs.twimg.com/profile_images/1540630567825199104/52vepTBu_normal.jpg', profile_banner_url='https://pbs.twimg.com/profile_banners/1437297976389476354/1656149952', profile_link_color='1DA1F2', profile_sidebar_border_color='C0DEED', profile_sidebar_fill_color='DDEEF6', profile_text_color='333333', profile_use_background_image=True, has_extended_profile=True, default_profile=True, default_profile_image=False, following=False, follow_request_sent=False, notifications=False, translator_type='none', withheld_in_countries=[]), user=User(_api=<tweepy.api.API object at 0x0000010C5D73DFD0>, _json={'id': 1437297976389476354, 'id_str': '1437297976389476354', 'name': 'Vikram Kumar', 'screen_name': 'vikram_231', 'location': '', 'description': 'Always make sure you have love in your life❤️\\u200d🔥', 'url': None, 'entities': {'description': {'urls': []}}, 'protected': False, 'followers_count': 128, 'friends_count': 141, 'listed_count': 0, 'created_at': 'Mon Sep 13 06:12:16 +0000 2021', 'favourites_count': 70421, 'utc_offset': None, 'time_zone': None, 'geo_enabled': False, 'verified': False, 'statuses_count': 9126, 'lang': None, 'contributors_enabled': False, 'is_translator': False, 'is_translation_enabled': False, 'profile_background_color': 'F5F8FA', 'profile_background_image_url': None, 'profile_background_image_url_https': None, 'profile_background_tile': False, 'profile_image_url': 'http://pbs.twimg.com/profile_images/1540630567825199104/52vepTBu_normal.jpg', 'profile_image_url_https': 'https://pbs.twimg.com/profile_images/1540630567825199104/52vepTBu_normal.jpg', 'profile_banner_url': 'https://pbs.twimg.com/profile_banners/1437297976389476354/1656149952', 'profile_link_color': '1DA1F2', 'profile_sidebar_border_color': 'C0DEED', 'profile_sidebar_fill_color': 'DDEEF6', 'profile_text_color': '333333', 'profile_use_background_image': True, 'has_extended_profile': True, 'default_profile': True, 'default_profile_image': False, 'following': False, 'follow_request_sent': False, 'notifications': False, 'translator_type': 'none', 'withheld_in_countries': []}, id=1437297976389476354, id_str='1437297976389476354', name='Vikram Kumar', screen_name='vikram_231', location='', description='Always make sure you have love in your life❤️\\u200d🔥', url=None, entities={'description': {'urls': []}}, protected=False, followers_count=128, friends_count=141, listed_count=0, created_at=datetime.datetime(2021, 9, 13, 6, 12, 16, tzinfo=datetime.timezone.utc), favourites_count=70421, utc_offset=None, time_zone=None, geo_enabled=False, verified=False, statuses_count=9126, lang=None, contributors_enabled=False, is_translator=False, is_translation_enabled=False, profile_background_color='F5F8FA', profile_background_image_url=None, profile_background_image_url_https=None, profile_background_tile=False, profile_image_url='http://pbs.twimg.com/profile_images/1540630567825199104/52vepTBu_normal.jpg', profile_image_url_https='https://pbs.twimg.com/profile_images/1540630567825199104/52vepTBu_normal.jpg', profile_banner_url='https://pbs.twimg.com/profile_banners/1437297976389476354/1656149952', profile_link_color='1DA1F2', profile_sidebar_border_color='C0DEED', profile_sidebar_fill_color='DDEEF6', profile_text_color='333333', profile_use_background_image=True, has_extended_profile=True, default_profile=True, default_profile_image=False, following=False, follow_request_sent=False, notifications=False, translator_type='none', withheld_in_countries=[]), geo=None, coordinates=None, place=None, contributors=None, is_quote_status=False, retweet_count=0, favorite_count=2, favorited=False, retweeted=False, lang='en')"
      ]
     },
     "execution_count": 10,
     "metadata": {},
     "output_type": "execute_result"
    }
   ],
   "source": [
    "status"
   ]
  },
  {
   "cell_type": "code",
   "execution_count": 11,
   "id": "2ca71240",
   "metadata": {},
   "outputs": [
    {
     "data": {
      "text/plain": [
       "['@NDTVProfit Thank you modi ji',\n",
       " 'Rajnath Singh 02 June 2020 - \" A large no of Chinese Army crossed into Indian Side.\"\\n\\nModi (19 June, 2020) - \" Noon… https://t.co/9LIvScqIup',\n",
       " '@kanikagahlaut Did modi tell u so ? 🤣🤣',\n",
       " '@unhrcpr do research a bit before putting Modi Govt in the Dock on the complaint of Pakistan whose minorities are r… https://t.co/3EPfjSLKks',\n",
       " '@KTRTRS Let me ask you this question\\n\\nHow many of corrupted mla’s joined trs did you use that same washing powder??… https://t.co/0tfqF3IrjC',\n",
       " 'Read my article on this womyn:\\nhttps://t.co/1PKFsqpxrI',\n",
       " 'Nation wants to know Mr. Modiji... why India slumped down from 3rd largest Economy to 164th during your realm. Plea… https://t.co/10Y1vyRPOb',\n",
       " 'I2U2 (India-Isreal-UAE-US) Summit on July 14 in Tel Aviv, PM Modi to address virtually. I2U2 is also known as West Asian QUAD',\n",
       " 'सत्यमेव जयते! \\n\\nPM Narendra Modi unveiled the #NationalEmblem cast on ...\\n\\nhttps://t.co/bVwOxNT6XH\\n\\n~~~~~~~~\\n\\nJoin… https://t.co/tTlmwqZS8d',\n",
       " 'Mode (fashion or archetypical) is palindrome for modi (modus or switch).',\n",
       " \"Hon'ble PM Shri Narendra Modi  ji unveiled the 6.5m long bronze National Emblem cast on the roof of the New Parliam… https://t.co/h9Hng316DM\",\n",
       " 'Just because of his blind hate towards Narendra Modi, this whatsapp economist Subramanian Swamy is continously enga… https://t.co/BtaYa406hH',\n",
       " '#BREAKING I2U2 Summit and West Asian QUAD meet on 14th July in Israel...PM Modi to address Virtually (India, Israel… https://t.co/Oce2UxjRGb',\n",
       " 'This morning, Modi ji unveiling the National Emblem cast on the roof of the new Parliament. https://t.co/l26G72MsTz',\n",
       " 'Next Modi will say\\n*Mobile XYZ Global Hub. https://t.co/irkpBZQO8Z',\n",
       " 'Prime Minister Modi in his moving tribute to his dear friend recalls how Abe San envisioned Indo -Pacific regional… https://t.co/2pLwnePVb9',\n",
       " \"How slowly education syllabus is being modified. \\n\\nOld schemes and programmes will be soon replaced by Modi Govt's… https://t.co/a2IjTEDsVB\",\n",
       " 'Congratulations 🎉\\n#Modi #EmblemGiveaway https://t.co/NlKgAWQi29',\n",
       " '@theskindoctor13 @ANI While Modi ji is busy in writting letters to their friends in Saudi,Qatar ,Wishing them a Happy Eid-al -Adha🔥❤️',\n",
       " \"@GuptaPragnya Remains to be seen is his degree as original as Modi's. 😁😁\",\n",
       " 'PM unveils National Emblem cast on the roof of the new Parliament Building\\nhttps://t.co/ETiGohPYoZ via NaMo App https://t.co/jCcbwprCUi',\n",
       " \"Just in: I2U2 or West Asian Quad summit on 14th July during President Biden's Israel visit; PM Modi to address it virtually\",\n",
       " \"AIMIM Chief and Congress gun for PM Modi as he unveils National Emblem Cast. \\nBJP's @amitmalviya comments on Opposi… https://t.co/UgiCcl3XMH\",\n",
       " 'Rupee falls to another historical low of 79.45\\n\\n#Modi does another opening ceremony',\n",
       " \"Hon'ble PM Narendra Modi unveils Bronze National Emblem on roof of new Parliament building. The National Emblem, ma… https://t.co/fOJrabehdN\",\n",
       " '@Pakista70824415 @fawadchaudhry Old bhi hy to tb konsa modi ki government the tb bhi ye zalim chor hi thy',\n",
       " '@AweShadySome @Anjana_Modi_ Max 4 hours but it’s good especially for this humidity',\n",
       " 'PM unveils National Emblem cast on the roof of the new Parliament Building\\nhttps://t.co/UYktHTBHhI\\nvia NaMo App',\n",
       " '@Anjna116 Boils found all over body. Rona shuru. OYC says Modi has voilated d constitution by not asking Loksabha s… https://t.co/MBROeioQqj',\n",
       " 'Thanks to  Sharply divided opposition Political Parties of India that have made Prime Minister Narender Modi G and… https://t.co/7lQwygHcW6',\n",
       " '@Isriramseshadri You are one of the BJP supporters who fought in several debates for Modi and BJP. By adding “Iyyan… https://t.co/iQ9W2X8iFc',\n",
       " 'Actually this car is entering the new lane which was inaugurated by the visionary leader Modi ji... as the successf… https://t.co/B3IGsSwrQp',\n",
       " '@Sassy_Hindu Not turn out.\\nDefault-moded fraud fiberals with glib tongues take to liberalism, &amp;\\nmine the cottage in… https://t.co/aMWEp4uAIo',\n",
       " 'List of Fugitive Economic Offenders in India: Vijay Mallya, Nirav Modi, others https://t.co/QLWBR8g8Aj',\n",
       " 'PM Narendra Modi unveiled National Emblem cast on the roof of New Parliament Building| सत्यमेव जयते! https://t.co/J28IywTCWA',\n",
       " 'PM Narendra Modi unveils national emblem on new Parliament\\xa0building https://t.co/RJYm0bzXr4',\n",
       " 'Quite similar to what Narendra Modi and BJP are doing in India.... https://t.co/cLAmlM39hm',\n",
       " '@ysathishreddy @KTRTRS @RaoKavitha @pbhushan1 @prakashraaj really love the way KCR is doing campaign. the exact way… https://t.co/ihXrQoP2Yu',\n",
       " '@BBCHindi Rightly said, everyone who showed the old video of himself and Modi should go in their meetings like this… https://t.co/C94xj1EA8r',\n",
       " '@theskindoctor13 @ANI Gangadher hi shaktiman hai.\\nand this is also true for Modi.',\n",
       " 'This morning, I had the honour of unveiling the National Emblem cast on the roof of the new Parliament.\\nJai hind mo… https://t.co/OESYSt9IuI',\n",
       " '@narendramodi @pradip103 Great\\nVery nice modi ji',\n",
       " '@iamayushgoel Problem is ayush its not your fault your just seeing anti Muslim propaganda being driven by modi...Is… https://t.co/OHKkpmTvyJ',\n",
       " \"There is nothing stopping India from taking on Chinese aggression, except for PM Modi's cowardice.… https://t.co/Z8Shgo2fUQ\",\n",
       " 'Rain news: PM Modi speaks to Gujarat CM to take stock of flood situation; heavy downpour in\\xa0Maharashtra https://t.co/51sQS2xB1A',\n",
       " 'The Modi Magic continues as\\n\\nIran offers India to start buying crude oil &amp; other fuel from it.\\n\\nIt said it is ready… https://t.co/tKNdTbSmBv',\n",
       " '@Rakshit03286018 @manashTOI Bilkul bro!\\nKl bolenge parso aaega \\nNta 17 ko hi release kr de na admit card !\\nWese bhi… https://t.co/bt37U51KeJ',\n",
       " '@venkybengaluru @kaushikcbasu He cannot stick China, corruption, nepotism &amp; mismanagement on Modi as that will show… https://t.co/bT64uiJLIi',\n",
       " '`You are creating history`: PM Narendra Modi to `Shramjeevis` building new Parliament https://t.co/Oe9V9iBZvB',\n",
       " '8th fail modi ji also failed in economic report card 😕😕😕 https://t.co/1aXMuPugaj',\n",
       " '@TheSkandar @LeninSupremacy What has he done20students committed suuicide.bcs of the #NEETUG2022 exam.All they aske… https://t.co/7uc7bJUIQD',\n",
       " 'PM unveils National Emblem cast on the roof of the new Parliament Building\\nhttps://t.co/4cpMm12PlE\\n\\nvia NaMo App https://t.co/ZxZ2IzU41B',\n",
       " '@SubramanianKri AND MODI HAS BLESSINGS OF KAALI  AND LORD VISHWANATH  !  RIGHT ?',\n",
       " 'They are negative people-always think against Modi &amp;Hindus. https://t.co/Co0YYrHnOq',\n",
       " 'PM Modi to visit Patna, Jharkhand on July 12, to attend Bihar Assembly centenary celebrations… https://t.co/GtwHcc8QfK',\n",
       " \"@plasmadog @ikaveri We don't have 30 years\\nMore like 12-15yrs. With highest % of unemployed youth in the history of… https://t.co/EZFr6WT6Kd\",\n",
       " 'We should learn to deal with adverse situations in life from Taapsee Pannu.🙂✨\\n\\nHow she managed to fake her smile, w… https://t.co/On5yRY4v50',\n",
       " '@pbhushan1 Hahaha … ohh shit , Prashant Bhushan has failed Modi in the report card .. now Modi will have to resign 😂😂😂 #mudimustregine',\n",
       " \"#Rupee hits lifetime low of 79.41 against the $. The only thing falling faster than the Rupee is the Modi govt's cr… https://t.co/kr9XIEPHgh\",\n",
       " \"The Architect of the New BJP': New book focuses on PM Modi's organisational skills\\xa0\\n https://t.co/hlZ6TM6024\\n\\nvia N… https://t.co/vMa7KXzYDI\",\n",
       " '@bole_bharat Nobody must kill Modi for he must live long life.',\n",
       " '@suryapsingh_IAS Thanks to modi ji,,, @suryapsingh_IAS',\n",
       " 'These morons are so blind in their hatred for Hindus that do not realise their such stupid outbursts only end up in… https://t.co/Gg5xMDkURv',\n",
       " 'PM @narendramodi unveiled the National Emblem on the roof of new Parliament Building.\\n\\nHere are a few glimpses...… https://t.co/MlrzyT4mUT',\n",
       " '@manpunster It happened in 2018 - why to bring that matter now, if you did not said anything about it then, why now… https://t.co/m4QFgeR7dB',\n",
       " \"@PTI_News Modi ji 's Minority Development Schemes worked\",\n",
       " '@Saifull68799958 @ShehzadRoy Illegal law and abuse of Islam …this is what pakis doing. But I am sure you also appro… https://t.co/8xxy1jkXMa',\n",
       " 'Limitless blessings of Maa Kali are always with India: PM Modi\\xa0\\n https://t.co/b5SegCKQjS\\n\\nvia NaMo App https://t.co/5JKuxYKMdo',\n",
       " 'Modi government report card https://t.co/ajTTGs4PdG',\n",
       " \"@Swamy39 From where you got such data's. Dont know what to say, lots of people has come out from their chinese skin… https://t.co/eIeOwmZpNI\",\n",
       " \"@patopedia @ANI Yes. Bhakra nangal is statue, not a dam.\\nIt's because of this literacy level, modi ji gets absolute… https://t.co/XOPQgMLNsY\",\n",
       " \"India's saint tradition always stood for 'Ek Bharat, Shreshtha Bharat': PM Modi\\n https://t.co/vOx6lSjzfI\\n\\nvia NaMo… https://t.co/MaorswiAiO\",\n",
       " 'Report card of modi ji \\nThe results of weak student is fail\\n#modiji https://t.co/fyMP4yfRyu',\n",
       " 'Rain news: PM Modi speaks to Gujarat CM to take stock of flood situation; heavy downpour in\\xa0Maharashtra https://t.co/oblZuFVSsu',\n",
       " 'Rain news: PM Modi speaks to Gujarat CM to take stock of flood situation; heavy downpour in\\xa0Maharashtra https://t.co/vrLaiX5NfK',\n",
       " 'Next Modi https://t.co/Vxj3netsWZ',\n",
       " 'Seems unlikely president from Orissa veep from Assam but in modi raj anything is possible https://t.co/EIlrU8wn2H',\n",
       " '@pbhushan1 These are absolutely obnoxious ratios which have no relevance Prashant ji . If you want to play down Mod… https://t.co/uiM5QUenMA',\n",
       " '@Tenali_RK Why Times Now and Republic are Modi no?',\n",
       " '@new_bhagatsing @spikashi @KM_kaashiM @mahakal_4242 @raj_India9 @Jitendr85159441 @narendramodi @1075Sanjay Bhai rem… https://t.co/qFxVuq7vay',\n",
       " '@sardesairajdeep @Naveen_Odisha You are saying this with ur personal capacity?? Or as a reporter?? Or as a hidden c… https://t.co/O6Ia3DRtPK',\n",
       " \"Modi's focus on inclusive development to be reflected strongly in G20: Stern\\n https://t.co/R0v431a3kQ\\n\\nvia NaMo App https://t.co/bab202LTLX\",\n",
       " 'Thakreji a gone case \\nPawar Saheb to Sanyas \\nPatnaikji happy in Orissa \\nNE passing through transition \\nStalin Ji/ K… https://t.co/dwoDiro5A5',\n",
       " '@suryapsingh_IAS Thank You Modi ji khana hai?',\n",
       " '@ShekharGupta And your Modi - Shah, where will they run for? Imagine \\n\\nAdvice your bosses',\n",
       " '@navin83624973 @RituRathaur @myogiadityanath Eye rakhkay kya faida hoga?? Can anyone do anything about it?? Will a… https://t.co/z7TrOxzjPS',\n",
       " 'As Narendra Modi tweets Eid greetings on social media, the Muslims of Kashmir are denied their fundamental religiou… https://t.co/BTbtKigC5S',\n",
       " '@FXlearnerFX @kekhaunter @pamelaphilipose Not possible to please 140 crore people, but the people of India still vo… https://t.co/LlE17av8SM',\n",
       " '@anuragteddy Pehle sirf Bihar mai flood hote the … Ab toh Modi’s smart cities are like man made lake in middle of nothing \\U0001f972',\n",
       " '@sardesairajdeep @Naveen_Odisha And what about Shiv Sena and congress, your investigation is biased and political,… https://t.co/arjITPEjT1',\n",
       " 'Narender Modi is not the best of Hinduism...',\n",
       " '@RituRathaur @Treasure1725 Every Tom dick and Harry of so called pseudo right winger abused narendra modi day and n… https://t.co/hAqycKTRnE',\n",
       " '\"The act of sedition\". 😅😅😅\\nThe Rupee value has gone to such a low - close to Rs 80 now, it happened never before in… https://t.co/wYdXDNURuX',\n",
       " \"@konarksangal Anti Modi Anti BJP Anti India liberandus don't need brains\",\n",
       " '@krishanKTRS CM KCR has many public works in Telangana like kaleshwaram project, to be credited with , can Modi ji’… https://t.co/TmJRbHlNYd',\n",
       " '@Indian_Analyzer I feel you should refrain from using Modi Govt, the proposal is from GOI',\n",
       " \"@raja3293 @BJP_Gayathri_R moreover, BJP doesn't have any big leaders in TN... so, TN BJP is pushing the popularity… https://t.co/OicnAwnJv0\",\n",
       " '@rupeshmishra82 @brink_ster @Incognito_qfs @kaushikcbasu Modi makes foolish sanghis like u to belive he is working… https://t.co/XtJ6q4pxrJ',\n",
       " 'Rain news: PM Modi speaks to Gujarat CM to take stock of flood situation; heavy downpour in\\xa0Maharashtra https://t.co/xtCZ455ffT',\n",
       " '@krishanKTRS @KTRTRS Many questions by CM kcr to Modi regarding development of India, but there’s no answer from mo… https://t.co/owtSgHDzGI']"
      ]
     },
     "execution_count": 11,
     "metadata": {},
     "output_type": "execute_result"
    }
   ],
   "source": [
    "list_tweets"
   ]
  },
  {
   "cell_type": "code",
   "execution_count": 12,
   "id": "b2a50eb7",
   "metadata": {},
   "outputs": [
    {
     "data": {
      "text/plain": [
       "100"
      ]
     },
     "execution_count": 12,
     "metadata": {},
     "output_type": "execute_result"
    }
   ],
   "source": [
    "len(list_tweets)"
   ]
  },
  {
   "cell_type": "code",
   "execution_count": 13,
   "id": "cc7fa9e1",
   "metadata": {},
   "outputs": [],
   "source": [
    "with open('tfidmodel.pickle','rb') as f:\n",
    "    vectorizer = pickle.load(f)"
   ]
  },
  {
   "cell_type": "code",
   "execution_count": 15,
   "id": "552a1cdc",
   "metadata": {},
   "outputs": [],
   "source": [
    "with open('classifier.pickle','rb') as f:\n",
    "    clf = pickle.load(f)"
   ]
  },
  {
   "cell_type": "code",
   "execution_count": 16,
   "id": "8c153bd0",
   "metadata": {},
   "outputs": [
    {
     "name": "stdout",
     "output_type": "stream",
     "text": [
      " ndtvprofit thank you modi ji : [1]\n",
      "rajnath singh june large no of chinese army crossed into indian side. modi june noon  : [1]\n",
      " kanikagahlaut did modi tell so  : [0]\n",
      " unhrcpr do research bit before putting modi govt in the dock on the complaint of pakistan whose minorities are r  : [1]\n",
      " ktrtrs let me ask you this question how many of corrupted mla s joined trs did you use that same washing powder  : [1]\n",
      "read my article on this womyn  : [0]\n",
      "nation wants to know mr. modiji... why india slumped down from rd largest economy to th during your realm. plea  : [0]\n",
      " india isreal uae us summit on july in tel aviv pm modi to address virtually. u is also known as west asian quad : [1]\n",
      " pm narendra modi unveiled the nationalemblem cast on ... join  : [0]\n",
      "mode fashion or archetypical is palindrome for modi modus or switch . : [0]\n",
      "hon ble pm shri narendra modi ji unveiled the . long bronze national emblem cast on the roof of the new parliam  : [0]\n",
      "just because of his blind hate towards narendra modi this whatsapp economist subramanian swamy is continously enga  : [1]\n",
      " breaking u summit and west asian quad meet on th july in israel...pm modi to address virtually india israel  : [0]\n",
      "this morning modi ji unveiling the national emblem cast on the roof of the new parliament.  : [1]\n",
      "next modi will say mobile xyz global hub.  : [1]\n",
      "prime minister modi in his moving tribute to his dear friend recalls how abe san envisioned indo pacific regional  : [1]\n",
      "how slowly education syllabus is being modified. old schemes and programmes will be soon replaced by modi govt s  : [0]\n",
      "congratulations modi emblemgiveaway  : [1]\n",
      " theskindoctor ani while modi ji is busy in writting letters to their friends in saudi qatar wishing them happy eid al adha  : [1]\n",
      " guptapragnya remains to be seen is his degree as original as modi s.  : [1]\n",
      "pm unveils national emblem cast on the roof of the new parliament building via namo app  : [1]\n",
      "just in u or west asian quad summit on th july during president biden s israel visit pm modi to address it virtually : [0]\n",
      "aimim chief and congress gun for pm modi as he unveils national emblem cast. bjp s amitmalviya comments on opposi  : [0]\n",
      "rupee falls to another historical low of . modi does another opening ceremony : [0]\n",
      "hon ble pm narendra modi unveils bronze national emblem on roof of new parliament building. the national emblem ma  : [1]\n",
      " pakista fawadchaudhry old bhi hy to tb konsa modi ki government the tb bhi ye zalim chor hi thy : [0]\n",
      " aweshadysome anjana modi max hours but it s good especially for this humidity : [1]\n",
      "pm unveils national emblem cast on the roof of the new parliament building via namo app : [1]\n",
      " anjna boils found all over body. rona shuru. oyc says modi has voilated constitution by not asking loksabha s  : [1]\n",
      "thanks to sharply divided opposition political parties of india that have made prime minister narender modi and  : [1]\n",
      " isriramseshadri you are one of the bjp supporters who fought in several debates for modi and bjp. by adding iyyan  : [1]\n",
      "actually this car is entering the new lane which was inaugurated by the visionary leader modi ji... as the successf  : [0]\n",
      " sassy hindu not turn out. default moded fraud fiberals with glib tongues take to liberalism amp mine the cottage in  : [1]\n",
      "list of fugitive economic offenders in india vijay mallya nirav modi others  : [1]\n",
      "pm narendra modi unveiled national emblem cast on the roof of new parliament building  : [1]\n",
      "pm narendra modi unveils national emblem on new parliament building  : [1]\n",
      "quite similar to what narendra modi and bjp are doing in india....  : [1]\n",
      " ysathishreddy ktrtrs raokavitha pbhushan prakashraaj really love the way kcr is doing campaign. the exact way  : [1]\n",
      " bbchindi rightly said everyone who showed the old video of himself and modi should go in their meetings like this  : [0]\n",
      " theskindoctor ani gangadher hi shaktiman hai. and this is also true for modi. : [1]\n",
      "this morning had the honour of unveiling the national emblem cast on the roof of the new parliament. jai hind mo  : [1]\n",
      " narendramodi pradip great very nice modi ji : [1]\n",
      " iamayushgoel problem is ayush its not your fault your just seeing anti muslim propaganda being driven by modi...is  : [1]\n",
      "there is nothing stopping india from taking on chinese aggression except for pm modi s cowardice.  : [0]\n",
      "rain news pm modi speaks to gujarat cm to take stock of flood situation heavy downpour in maharashtra  : [1]\n",
      "the modi magic continues as iran offers india to start buying crude oil amp other fuel from it. it said it is ready  : [1]\n",
      " rakshit manashtoi bilkul bro kl bolenge parso aaega nta ko hi release kr de na admit card wese bhi  : [1]\n",
      " venkybengaluru kaushikcbasu he cannot stick china corruption nepotism amp mismanagement on modi as that will show  : [1]\n",
      " you are creating history pm narendra modi to shramjeevis building new parliament  : [1]\n",
      " th fail modi ji also failed in economic report card  : [1]\n",
      " theskandar leninsupremacy what has he done students committed suuicide.bcs of the neetug exam.all they aske  : [1]\n",
      "pm unveils national emblem cast on the roof of the new parliament building via namo app  : [1]\n",
      " subramaniankri and modi has blessings of kaali and lord vishwanath right  : [1]\n",
      "they are negative people always think against modi amp hindus.  : [1]\n",
      "pm modi to visit patna jharkhand on july to attend bihar assembly centenary celebrations  : [1]\n",
      " plasmadog ikaveri we don t have years more like yrs. with highest of unemployed youth in the history of  : [1]\n",
      "we should learn to deal with adverse situations in life from taapsee pannu. how she managed to fake her smile w  : [1]\n",
      " pbhushan hahaha ohh shit prashant bhushan has failed modi in the report card .. now modi will have to resign mudimustregine : [0]\n",
      " rupee hits lifetime low of . against the . the only thing falling faster than the rupee is the modi govt s cr  : [0]\n",
      "the architect of the new bjp new book focuses on pm modi s organisational skills via n  : [1]\n",
      " bole bharat nobody must kill modi for he must live long life. : [1]\n",
      " suryapsingh ias thanks to modi ji suryapsingh ias : [1]\n",
      "these morons are so blind in their hatred for hindus that do not realise their such stupid outbursts only end up in  : [0]\n",
      "pm narendramodi unveiled the national emblem on the roof of new parliament building. here are few glimpses...  : [1]\n",
      " manpunster it happened in why to bring that matter now if you did not said anything about it then why now  : [0]\n",
      " pti news modi ji s minority development schemes worked : [0]\n",
      " saifull shehzadroy illegal law and abuse of islam this is what pakis doing. but am sure you also appro  : [1]\n",
      "limitless blessings of maa kali are always with india pm modi via namo app  : [1]\n",
      "modi government report card  : [1]\n",
      " swamy from where you got such data s. dont know what to say lots of people has come out from their chinese skin  : [1]\n",
      " patopedia ani yes. bhakra nangal is statue not dam. it is because of this literacy level modi ji gets absolute  : [0]\n",
      "india s saint tradition always stood for ek bharat shreshtha bharat pm modi via namo  : [1]\n",
      "report card of modi ji the results of weak student is fail modiji  : [0]\n",
      "rain news pm modi speaks to gujarat cm to take stock of flood situation heavy downpour in maharashtra  : [1]\n",
      "rain news pm modi speaks to gujarat cm to take stock of flood situation heavy downpour in maharashtra  : [1]\n",
      "next modi  : [1]\n",
      "seems unlikely president from orissa veep from assam but in modi raj anything is possible  : [0]\n",
      " pbhushan these are absolutely obnoxious ratios which have no relevance prashant ji . if you want to play down mod  : [0]\n",
      " tenali rk why times now and republic are modi no  : [1]\n",
      " new bhagatsing spikashi km kaashim mahakal raj india jitendr narendramodi sanjay bhai rem  : [1]\n",
      " sardesairajdeep naveen odisha you are saying this with ur personal capacity or as reporter or as hidden c  : [1]\n",
      "modi s focus on inclusive development to be reflected strongly in stern via namo app  : [0]\n",
      "thakreji gone case pawar saheb to sanyas patnaikji happy in orissa ne passing through transition stalin ji k  : [1]\n",
      " suryapsingh ias thank you modi ji khana hai  : [1]\n",
      " shekhargupta and your modi shah where will they run for imagine advice your bosses : [1]\n",
      " navin riturathaur myogiadityanath eye rakhkay kya faida hoga can anyone do anything about it will a  : [0]\n",
      "as narendra modi tweets eid greetings on social media the muslims of kashmir are denied their fundamental religiou  : [1]\n",
      " fxlearnerfx kekhaunter pamelaphilipose not possible to please crore people but the people of india still vo  : [1]\n",
      " anuragteddy pehle sirf bihar mai flood hote the ab toh modi s smart cities are like man made lake in middle of nothing  : [0]\n",
      " sardesairajdeep naveen odisha and what about shiv sena and congress your investigation is biased and political  : [1]\n",
      "narender modi is not the best of hinduism... : [1]\n",
      " riturathaur treasure every tom dick and harry of so called pseudo right winger abused narendra modi day and n  : [1]\n",
      " the act of sedition . the rupee value has gone to such low close to rs now it happened never before in  : [0]\n",
      " konarksangal anti modi anti bjp anti india liberandus don t need brains : [1]\n",
      " krishanktrs cm kcr has many public works in telangana like kaleshwaram project to be credited with can modi ji  : [1]\n",
      " indian analyzer feel you should refrain from using modi govt the proposal is from goi : [1]\n",
      " raja bjp gayathri r moreover bjp doesn t have any big leaders in tn... so tn bjp is pushing the popularity  : [0]\n",
      " rupeshmishra brink ster incognito qfs kaushikcbasu modi makes foolish sanghis like to belive he is working  : [1]\n",
      "rain news pm modi speaks to gujarat cm to take stock of flood situation heavy downpour in maharashtra  : [1]\n",
      " krishanktrs ktrtrs many questions by cm kcr to modi regarding development of india but there s no answer from mo  : [1]\n"
     ]
    }
   ],
   "source": [
    "total_pos = 0\n",
    "total_neg = 0\n",
    "for tweet in list_tweets:\n",
    "    tweet = re.sub(r'^https://t.co/[a-zA-Z0-9]*\\s', ' ',tweet)\n",
    "    tweet = re.sub(r'\\s+https://t.co/[a-zA-Z0-9]*\\s', ' ',tweet)\n",
    "    tweet = re.sub(r'https://t.co/[a-zA-Z0-9]*$', ' ',tweet)\n",
    "    tweet = tweet.lower()\n",
    "    tweet = re.sub(r\"that's\", \"that is\",tweet)\n",
    "    tweet = re.sub(r\"what's\", \"what is\",tweet)\n",
    "    tweet = re.sub(r\"where's\", \"where is\",tweet)\n",
    "    tweet = re.sub(r\"it's\", \"it is\",tweet)\n",
    "    tweet = re.sub(r\"who's\", \"who is\",tweet)\n",
    "    tweet = re.sub(r\"i'm\", \"i am\",tweet)\n",
    "    tweet = re.sub(r\"she's\", \"she is\",tweet)\n",
    "    tweet = re.sub(r\"he's\", \"he is\",tweet)\n",
    "    tweet = re.sub(r\"they're\", \"they are\",tweet)\n",
    "    tweet = re.sub(r\"who're\", \"who are\",tweet)\n",
    "    tweet = re.sub(r\"ain't\", \"am not\",tweet)\n",
    "    tweet = re.sub(r\"wouldn't\", \"would not\",tweet)\n",
    "    tweet = re.sub(r\"shouldn't\", \"should not\",tweet)\n",
    "    tweet = re.sub(r\"can't\", \"can not\",tweet)\n",
    "    tweet = re.sub(r\"couldn't\", \"could not\",tweet)\n",
    "    tweet = re.sub(r\"wouldn't\", \"would not\",tweet)\n",
    "    tweet = re.sub(r\"\\d\", \" \",tweet)\n",
    "    tweet = re.sub(r\"\\s+[a-z]\\s+\", \" \",tweet)\n",
    "    tweet = re.sub(r\"\\s+[a-z]$\", \" \",tweet)\n",
    "    tweet = re.sub(r\"^[a-z]\\s+\", \" \",tweet)\n",
    "    tweet = re.sub(r\"[^a-z\\.]\", \" \",tweet)\n",
    "    tweet = re.sub(r\"\\s+\", \" \",tweet)\n",
    "    \n",
    "    \n",
    "    sent = clf.predict(vectorizer.transform([tweet]).toarray())\n",
    "    print(tweet, \":\" ,sent)\n",
    "    \n",
    "    if sent[0] == 1:\n",
    "        total_pos += 1\n",
    "    else:\n",
    "        total_neg +=1"
   ]
  },
  {
   "cell_type": "code",
   "execution_count": 17,
   "id": "f63c91b4",
   "metadata": {},
   "outputs": [
    {
     "data": {
      "text/plain": [
       "71"
      ]
     },
     "execution_count": 17,
     "metadata": {},
     "output_type": "execute_result"
    }
   ],
   "source": [
    "total_pos"
   ]
  },
  {
   "cell_type": "code",
   "execution_count": 18,
   "id": "67fd9012",
   "metadata": {},
   "outputs": [
    {
     "data": {
      "text/plain": [
       "29"
      ]
     },
     "execution_count": 18,
     "metadata": {},
     "output_type": "execute_result"
    }
   ],
   "source": [
    "total_neg"
   ]
  },
  {
   "cell_type": "code",
   "execution_count": null,
   "id": "85bca4f8",
   "metadata": {},
   "outputs": [],
   "source": []
  }
 ],
 "metadata": {
  "kernelspec": {
   "display_name": "Python 3",
   "language": "python",
   "name": "python3"
  },
  "language_info": {
   "codemirror_mode": {
    "name": "ipython",
    "version": 3
   },
   "file_extension": ".py",
   "mimetype": "text/x-python",
   "name": "python",
   "nbconvert_exporter": "python",
   "pygments_lexer": "ipython3",
   "version": "3.6.13"
  }
 },
 "nbformat": 4,
 "nbformat_minor": 5
}
